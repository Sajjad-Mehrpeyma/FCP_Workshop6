{
 "cells": [
  {
   "cell_type": "markdown",
   "id": "60244a2b",
   "metadata": {},
   "source": [
    "Q1"
   ]
  },
  {
   "cell_type": "code",
   "execution_count": null,
   "id": "1da96ddd",
   "metadata": {},
   "outputs": [],
   "source": [
    "s = input()\n",
    "while True:\n",
    "    ins = input()\n",
    "    if 'SHIFT-L' in ins and len(s) != 0 :\n",
    "        N = int(ins.split()[1])\n",
    "        if N > len(s): N = N % len(s)\n",
    "        f = s[N:]\n",
    "        l = s[:N]\n",
    "        s = f + l\n",
    "    elif 'SHIFT-R' in ins and len(s) != 0 :\n",
    "        N = int(ins.split()[1])\n",
    "        if N > len(s): N = N % len(s)\n",
    "        f = s[-N:]\n",
    "        l = s[:-N]\n",
    "        s = f + l\n",
    "    elif 'EXTEND' in ins:\n",
    "        N = int(ins.split()[1])\n",
    "        s = s+ '*'*N\n",
    "    elif 'SHRINK' in ins:\n",
    "        N = int(ins.split()[1])\n",
    "        if N >= len(s): s = ''\n",
    "        else:\n",
    "            s = s[:-N]\n",
    "    elif 'REVERSE' in ins and len(s) != 0 :\n",
    "        s = s[-1::-1]\n",
    "    elif 'PUT' in ins and len(s) != 0 :\n",
    "        I = int(ins.split()[1])\n",
    "        C = ins.split()[2]\n",
    "        s = s[:I-1] + C + s[I:] \n",
    "    elif 'PRINT' in ins:\n",
    "        print(s)\n",
    "    elif 'EXIT' in ins:\n",
    "        break"
   ]
  },
  {
   "cell_type": "markdown",
   "id": "d3bec3e4",
   "metadata": {},
   "source": [
    "Q2"
   ]
  },
  {
   "cell_type": "code",
   "execution_count": null,
   "id": "dfb83b60",
   "metadata": {},
   "outputs": [],
   "source": [
    "s = input()\n",
    "n = int(input())\n",
    "count = 0\n",
    "for i in range(n):\n",
    "    flag = True\n",
    "    code = input()\n",
    "    idx1 = 0\n",
    "    for letter in s:\n",
    "        idx1 = code.find(letter,idx1)\n",
    "        if idx1 == -1 :\n",
    "            flag = False\n",
    "            break\n",
    "    if flag:\n",
    "        count += 1\n",
    "\n",
    "print(count)"
   ]
  },
  {
   "cell_type": "markdown",
   "id": "da0ba645",
   "metadata": {},
   "source": [
    "Q3"
   ]
  },
  {
   "cell_type": "code",
   "execution_count": null,
   "id": "e45c6742",
   "metadata": {},
   "outputs": [],
   "source": [
    "s = input()\n",
    "for letter n s:\n",
    "    if not letter.isalpha() :\n",
    "        s = s.replace(letter,' ')\n",
    "\n",
    "for word in s.split():\n",
    "    if len(word) >= 5 and not word.isupper():\n",
    "        count = 0\n",
    "        for letter in word:\n",
    "            if letter not in 'aeiouy':\n",
    "                count += 1\n",
    "            else:\n",
    "                count = 0\n",
    "            if count >= 5 :\n",
    "                print(word, end=' ')\n",
    "                break"
   ]
  }
 ],
 "metadata": {
  "kernelspec": {
   "display_name": "Python 3",
   "language": "python",
   "name": "python3"
  },
  "language_info": {
   "codemirror_mode": {
    "name": "ipython",
    "version": 3
   },
   "file_extension": ".py",
   "mimetype": "text/x-python",
   "name": "python",
   "nbconvert_exporter": "python",
   "pygments_lexer": "ipython3",
   "version": "3.8.8"
  }
 },
 "nbformat": 4,
 "nbformat_minor": 5
}
