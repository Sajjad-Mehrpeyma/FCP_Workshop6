{
 "cells": [
  {
   "cell_type": "markdown",
   "id": "9d0a2597",
   "metadata": {},
   "source": [
    "Q1"
   ]
  },
  {
   "cell_type": "code",
   "execution_count": 12,
   "id": "a4ba9d90",
   "metadata": {},
   "outputs": [
    {
     "name": "stdout",
     "output_type": "stream",
     "text": [
      "6\n",
      "YES\n"
     ]
    }
   ],
   "source": [
    "n = int(input())\n",
    "sum= 0\n",
    "for i in range(1, (n//2)+1):\n",
    "    if n % i == 0:\n",
    "        sum += i\n",
    "if sum == n:\n",
    "    print(\"YES\")\n",
    "else:\n",
    "    print(\"NO\")"
   ]
  },
  {
   "cell_type": "markdown",
   "id": "78c01eab",
   "metadata": {},
   "source": [
    "Q2"
   ]
  },
  {
   "cell_type": "code",
   "execution_count": 13,
   "id": "e3e01052",
   "metadata": {},
   "outputs": [
    {
     "name": "stdout",
     "output_type": "stream",
     "text": [
      "1\n",
      "-10\n",
      "-729\n"
     ]
    }
   ],
   "source": [
    "n = int(input())\n",
    "m = int(input())\n",
    "sum = 0\n",
    "for i in range(-10, m + 1):\n",
    "    for j in range(1, n + 1):\n",
    "        sum += int((i+j) ** 3 / j ** 2)\n",
    "print(sum)"
   ]
  },
  {
   "cell_type": "markdown",
   "id": "cb26cdda",
   "metadata": {},
   "source": [
    "Q3"
   ]
  },
  {
   "cell_type": "code",
   "execution_count": 15,
   "id": "eeab4b68",
   "metadata": {},
   "outputs": [
    {
     "name": "stdout",
     "output_type": "stream",
     "text": [
      "5\n",
      "  *    *  \n",
      " ***  *** \n",
      "**********\n",
      " ***  *** \n",
      "  *    *  \n"
     ]
    }
   ],
   "source": [
    "n = int(input())\n",
    "for i in range(n // 2 + 1):\n",
    "    sc = 2 * i + 1\n",
    "    row = \" \" * ((n - sc) // 2) + \"*\" * sc + \" \" * ((n - sc) // 2)\n",
    "    print(row*2)\n",
    "for i in range(n // 2 - 1, -1, -1):\n",
    "    sc = 2 * i + 1\n",
    "    row = \" \" * ((n - sc) // 2) + \"*\" * sc + \" \" * ((n - sc) // 2)\n",
    "    print(row*2)"
   ]
  },
  {
   "cell_type": "markdown",
   "id": "f50ebd78",
   "metadata": {},
   "source": [
    "Q4"
   ]
  },
  {
   "cell_type": "code",
   "execution_count": 11,
   "id": "6d614c93",
   "metadata": {},
   "outputs": [
    {
     "name": "stdout",
     "output_type": "stream",
     "text": [
      "7\n",
      "3\n",
      "* * * * * * * \n",
      "* * * * * * * \n",
      "* *       * * \n",
      "* *       * * \n",
      "* *       * * \n",
      "* * * * * * * \n",
      "* * * * * * * \n"
     ]
    }
   ],
   "source": [
    "a = int(input())\n",
    "b = int(input())\n",
    "if a <= b:\n",
    "    print(\"Wrong order!\")\n",
    "elif (a - b) % 2 != 0:\n",
    "    print(\"Wrong difference!\")\n",
    "else:\n",
    "    for i in range((a - b) // 2):\n",
    "        for j in range(a):\n",
    "            print(\"*\", end = ' ')\n",
    "        print()\n",
    "    for i in range(b):\n",
    "        print( \"* \" * ((a - b) // 2) + \"  \" * b + \"* \" * ((a - b) // 2))\n",
    "    \n",
    "    for i in range((a - b) // 2):\n",
    "        for j in range(a):\n",
    "            print(\"*\", end = ' ')\n",
    "        print()"
   ]
  },
  {
   "cell_type": "code",
   "execution_count": null,
   "id": "b6fb4cb5",
   "metadata": {},
   "outputs": [],
   "source": []
  }
 ],
 "metadata": {
  "kernelspec": {
   "display_name": "Python 3",
   "language": "python",
   "name": "python3"
  },
  "language_info": {
   "codemirror_mode": {
    "name": "ipython",
    "version": 3
   },
   "file_extension": ".py",
   "mimetype": "text/x-python",
   "name": "python",
   "nbconvert_exporter": "python",
   "pygments_lexer": "ipython3",
   "version": "3.8.8"
  }
 },
 "nbformat": 4,
 "nbformat_minor": 5
}
