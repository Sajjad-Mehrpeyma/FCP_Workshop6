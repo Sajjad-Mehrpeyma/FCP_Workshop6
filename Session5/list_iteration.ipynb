{
 "cells": [
  {
   "cell_type": "markdown",
   "id": "ad9af847",
   "metadata": {},
   "source": [
    "استفاده‌ از لیست به عنوان پشته\n",
    "\n",
    "با استفاده از لیست در پایتون به سادگی می‌توان یک پشته (Stack) را پیاده سازی کرد. با تابع append() یک عضو به انتهای پشته اضافه و با تابع pop() آخرین عضو آن حذف می‌شود."
   ]
  },
  {
   "cell_type": "code",
   "execution_count": 1,
   "id": "dc752c1f",
   "metadata": {},
   "outputs": [
    {
     "data": {
      "text/plain": [
       "['first', 'second', 'third', 'fourth']"
      ]
     },
     "execution_count": 1,
     "metadata": {},
     "output_type": "execute_result"
    }
   ],
   "source": [
    ">>> stack = [\"first\", \"second\", \"third\"]\n",
    ">>> stack\n",
    "['first', 'second', 'third']\n",
    ">>> stack.append('fourth')\n",
    ">>> stack.append('fifth')\n",
    ">>> stack\n",
    "['first', 'second', 'third', 'fourth', 'fifth']\n",
    ">>> stack.pop()\n",
    "'fifth'\n",
    ">>> stack\n",
    "['first', 'second', 'third', 'fourth']"
   ]
  },
  {
   "cell_type": "markdown",
   "id": "5f79cfd9",
   "metadata": {},
   "source": [
    "استفاده از لیست به عنوان صف\n",
    "\n",
    "می‌توان با دو تابع append() و pop(0) صف (Queue) را با لیست پیاده سازی کرد. عضو اول لیست نشان دهنده سر صف و عضو آخر لیست نشان دهنده‌ی انتهای صف است."
   ]
  },
  {
   "cell_type": "code",
   "execution_count": 2,
   "id": "23f4dc8b",
   "metadata": {},
   "outputs": [
    {
     "data": {
      "text/plain": [
       "['mohammad', 'reza', 'amir']"
      ]
     },
     "execution_count": 2,
     "metadata": {},
     "output_type": "execute_result"
    }
   ],
   "source": [
    ">>> queue = [\"ali\", \"mohammad\"]\n",
    ">>> queue.append(\"reza\") # similar to push\n",
    ">>> queue.append(\"amir\") \n",
    ">>> queue\n",
    "['ali', 'mohammad', 'reza', 'amir']\n",
    ">>> queue[0] # similar to top\n",
    "'ali'\n",
    ">>> queue.pop(0)\n",
    "'ali'\n",
    ">>> queue\n",
    "['mohammad', 'reza', 'amir']"
   ]
  },
  {
   "cell_type": "markdown",
   "id": "ca5a2512",
   "metadata": {},
   "source": [
    "پیمایش لیست\n",
    "\n",
    "ساده‌ترین روش پیمایش لیست با ‍for و بدون استفاده از هیچ تابع واسطه‌ای است. چون لیست پیمایش‌شونده است پس می‌توان آن را به سادگی با for پیمود."
   ]
  },
  {
   "cell_type": "code",
   "execution_count": 4,
   "id": "88110b49",
   "metadata": {},
   "outputs": [
    {
     "name": "stdout",
     "output_type": "stream",
     "text": [
      "ali\n",
      "1\n",
      "2\n",
      "3\n",
      "chetor\n"
     ]
    }
   ],
   "source": [
    ">>> myList = ['ali', 1, 2, 3, 'chetor']\n",
    ">>> for it in myList:\n",
    "...     print(it)"
   ]
  },
  {
   "cell_type": "markdown",
   "id": "0eb5ecb3",
   "metadata": {},
   "source": [
    "تابع enumerate\n",
    "\n",
    "با این تابع می‌توان اندیس یک شیء که پیمایش می‌شود را نیز هم‌زمان با خود شیء در دسترس داشت.\n",
    "\n"
   ]
  },
  {
   "cell_type": "code",
   "execution_count": 5,
   "id": "4af17b23",
   "metadata": {},
   "outputs": [
    {
     "name": "stdout",
     "output_type": "stream",
     "text": [
      "the 1th object in myList is 0!\n",
      "the 2th object in myList is 1!\n",
      "the 3th object in myList is 2!\n",
      "the 4th object in myList is 3!\n"
     ]
    }
   ],
   "source": [
    ">>> myList = [0, 1, 2, 3]\n",
    ">>> for i, it in enumerate(myList):\n",
    "...     print(\"the {0}th object in myList is {1}!\".format(i+1, it))"
   ]
  },
  {
   "cell_type": "markdown",
   "id": "a291a1ea",
   "metadata": {},
   "source": [
    "تابع zip\n",
    "\n",
    "با استفاده از این تابع می‌توان چند لیست را به طور هم‌زمان پیمود."
   ]
  },
  {
   "cell_type": "code",
   "execution_count": 6,
   "id": "fa2c16c1",
   "metadata": {},
   "outputs": [
    {
     "name": "stdout",
     "output_type": "stream",
     "text": [
      "1th alphabet or I in greece is a\n",
      "2th alphabet or II in greece is b\n",
      "3th alphabet or III in greece is c\n",
      "4th alphabet or IV in greece is d\n"
     ]
    }
   ],
   "source": [
    ">>> listA = [1, 2, 3, 4]\n",
    ">>> listB = ['a', 'b', 'c', 'd']\n",
    ">>> listC = ['I', 'II', 'III', 'IV']\n",
    ">>> for a, b, c in zip(listA, listB, listC):\n",
    "...     print(\"{0}th alphabet or {1} in greece is {2}\".format(a, c, b))"
   ]
  },
  {
   "cell_type": "markdown",
   "id": "3d76ebda",
   "metadata": {},
   "source": [
    "تابع sorted\n",
    "\n",
    "این تابع مرتب شده‌ی لیست ورودی را در قالب لیستی جدید بر می‌گرداند."
   ]
  },
  {
   "cell_type": "code",
   "execution_count": 7,
   "id": "d67a491f",
   "metadata": {},
   "outputs": [
    {
     "data": {
      "text/plain": [
       "[1, 2, 3, 4]"
      ]
     },
     "execution_count": 7,
     "metadata": {},
     "output_type": "execute_result"
    }
   ],
   "source": [
    ">>> ls = [2, 4, 3, 1]\n",
    ">>> sorted(ls)"
   ]
  },
  {
   "cell_type": "markdown",
   "id": "44c8a036",
   "metadata": {},
   "source": [
    "تابع reversed\n",
    "\n",
    "این تابع یک پیمایش‌گر لیست برمی‌گرداند که لیست ورودی را به صورت برعکس می‌پیماید. برای درک بهتر به مثال زیر دقت کنید:"
   ]
  },
  {
   "cell_type": "code",
   "execution_count": 9,
   "id": "27289aef",
   "metadata": {},
   "outputs": [
    {
     "name": "stdout",
     "output_type": "stream",
     "text": [
      "hello salam bcd a "
     ]
    }
   ],
   "source": [
    ">>> ls = ['a', 'bcd', 'salam', 'hello']\n",
    ">>> reversed(ls)\n",
    ">>> for i in reversed(ls):\n",
    "...     print(i, end=' ')"
   ]
  },
  {
   "cell_type": "markdown",
   "id": "ad27c958",
   "metadata": {},
   "source": [
    "تابع filter\n",
    "\n",
    "این تابع به عنوان آرگومان به ترتیب یک تابع (فرض کنید f) و یک شیء قابل پیمایش (فرض کنید iter) را می‌گیرد. تابع f را برای همه‌ی عناصر شیء iter صدا می‌زند. اگر خروجی False بود آن عنصر را حذف می‌کند. نهایتا نتیجه را در قالب یک پیمایشگر بر‌می‌گرداند. به مثال زیر دقت کنید :"
   ]
  },
  {
   "cell_type": "code",
   "execution_count": 11,
   "id": "662bc251",
   "metadata": {},
   "outputs": [
    {
     "name": "stdout",
     "output_type": "stream",
     "text": [
      "2 4 6 4 "
     ]
    }
   ],
   "source": [
    ">>> def f(x):\n",
    "...    return True if x%2 == 0 else False\n",
    "...\n",
    ">>> ls = [1, 2, 4, 3, 6, 4]\n",
    ">>> filter(f, ls)\n",
    ">>> for x in filter(f, ls):\n",
    "...     print(x, end=' ')"
   ]
  },
  {
   "cell_type": "markdown",
   "id": "fb913792",
   "metadata": {},
   "source": [
    "تابع map\n",
    "\n",
    "ساختار این تابع همانند filter است ولی عملکرد آن‌ها با هم متفاوت است. به این صورت که تابع f را برای همه‌ی عناصر شیء iter صدا می‌زند و خروجی آن را جایگزین عنصر کنونی iter می‌کند. نهایتا نتیجه را در قالب یک پیمایشگر بر‌می‌گرداند. به مثال زیر دقت کنید :"
   ]
  },
  {
   "cell_type": "code",
   "execution_count": 18,
   "id": "98d6def9",
   "metadata": {},
   "outputs": [
    {
     "name": "stdout",
     "output_type": "stream",
     "text": [
      "2 4 0 3 2 4 0 3 "
     ]
    }
   ],
   "source": [
    ">>> def f(x):\n",
    "...    return int(x)\n",
    "...\n",
    ">>> ls = [2, '4', False, 3.14]\n",
    ">>> map(f, ls)\n",
    "\n",
    ">>> for x in map(f, ls):\n",
    "...     print(x, end=' ')\n",
    ">>> for x in map(int, ls):\n",
    "...     print(x, end=' ')"
   ]
  },
  {
   "cell_type": "markdown",
   "id": "b9ca5c93",
   "metadata": {},
   "source": [
    "تابع sum\n",
    "\n",
    "با استفاده از تابع sum می‌توان حاصل جمع مقادیر درون یک شیء قابل پیمایش را بدست آورد. دقت کنید که مقادیر درون شیء موردنظر باید حتما از نوع عددی باشند. به مثال زیر دقت کنید :"
   ]
  },
  {
   "cell_type": "code",
   "execution_count": 17,
   "id": "35587738",
   "metadata": {},
   "outputs": [
    {
     "ename": "TypeError",
     "evalue": "unsupported operand type(s) for +: 'int' and 'str'",
     "output_type": "error",
     "traceback": [
      "\u001b[1;31m---------------------------------------------------------------------------\u001b[0m",
      "\u001b[1;31mTypeError\u001b[0m                                 Traceback (most recent call last)",
      "\u001b[1;32m<ipython-input-17-13de9617f271>\u001b[0m in \u001b[0;36m<module>\u001b[1;34m\u001b[0m\n\u001b[0;32m      2\u001b[0m \u001b[0msum\u001b[0m\u001b[1;33m(\u001b[0m\u001b[0mls\u001b[0m\u001b[1;33m)\u001b[0m\u001b[1;33m\u001b[0m\u001b[1;33m\u001b[0m\u001b[0m\n\u001b[0;32m      3\u001b[0m \u001b[0mls\u001b[0m \u001b[1;33m=\u001b[0m \u001b[1;33m[\u001b[0m\u001b[1;34m'a'\u001b[0m\u001b[1;33m,\u001b[0m \u001b[1;34m'b'\u001b[0m\u001b[1;33m,\u001b[0m \u001b[1;34m'c'\u001b[0m\u001b[1;33m,\u001b[0m \u001b[1;34m'd'\u001b[0m\u001b[1;33m]\u001b[0m\u001b[1;33m\u001b[0m\u001b[1;33m\u001b[0m\u001b[0m\n\u001b[1;32m----> 4\u001b[1;33m \u001b[0msum\u001b[0m\u001b[1;33m(\u001b[0m\u001b[0mls\u001b[0m\u001b[1;33m)\u001b[0m\u001b[1;33m\u001b[0m\u001b[1;33m\u001b[0m\u001b[0m\n\u001b[0m",
      "\u001b[1;31mTypeError\u001b[0m: unsupported operand type(s) for +: 'int' and 'str'"
     ]
    }
   ],
   "source": [
    ">>> ls = [1, 2, 3, 4]\n",
    ">>> sum(ls)\n",
    "10\n",
    ">>> ls = ['a', 'b', 'c', 'd']\n",
    ">>> sum(ls)"
   ]
  },
  {
   "cell_type": "code",
   "execution_count": null,
   "id": "75a7650f",
   "metadata": {},
   "outputs": [],
   "source": []
  }
 ],
 "metadata": {
  "kernelspec": {
   "display_name": "Python 3",
   "language": "python",
   "name": "python3"
  },
  "language_info": {
   "codemirror_mode": {
    "name": "ipython",
    "version": 3
   },
   "file_extension": ".py",
   "mimetype": "text/x-python",
   "name": "python",
   "nbconvert_exporter": "python",
   "pygments_lexer": "ipython3",
   "version": "3.8.8"
  }
 },
 "nbformat": 4,
 "nbformat_minor": 5
}
